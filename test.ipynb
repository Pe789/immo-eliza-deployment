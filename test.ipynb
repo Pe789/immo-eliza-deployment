{
 "cells": [
  {
   "cell_type": "code",
   "execution_count": 2,
   "metadata": {},
   "outputs": [],
   "source": [
    "from api.predict import make_prediction\n",
    "make_prediction('input.json', 'output.json')\n",
    "\n"
   ]
  },
  {
   "cell_type": "code",
   "execution_count": null,
   "metadata": {},
   "outputs": [],
   "source": []
  },
  {
   "cell_type": "markdown",
   "metadata": {},
   "source": [
    "## input (10)\n",
    "{\n",
    "  \"data\": {\n",
    "    \"Number_of_bedrooms\": int #2 to 5,\n",
    "    \"Living_area\": int, #50 to 300\n",
    "    \"Open_fire\": bool,\n",
    "    \"Swimming_Pool\": bool,\n",
    "    \"Kitchen_type\": [\"Installed\"|\"Hyper equipped\"|\"Semi equipped\"|\"Not installed \"]\n",
    "    \"Number_of_facades': int,\n",
    "    \"State_of_building\": [\"As new\"|\"Good\"|\"Just renovated\"|\"To be done up\"|\"To renovate\"]\n",
    "    \"epc\": [\"A\"|\"B\"|\"C\"|\"D\"|\"E\"|\"F\"],\n",
    "    \"landSurface\": int ## 0 to 1200,\n",
    "    \"Province\": [\"Brussels\"|\"Antwerp\"|\"Brabant_Wallon\"|\"Flemish Brabant\"|\"Liège\"|\"Namur\"|\"Luxembourg\"|\"Hainaut\"|\"West Flanders\"|\"East Flanders\"|\"Limburg\"]\n",
    "    }\n",
    "}  \n",
    "\n",
    "## output\n",
    "{\n",
    "  \"prediction\": Optional[float],\n",
    "  \"status_code\": Optional[int]\n",
    "}\n",
    "\n",
    "## example input (10)\n",
    "(3, 150, False, False, \"Installed\", 3, \"Good\", \"A\", 450, \"East Flanders\" )\n",
    "\n",
    "\n",
    "\n",
    "import requests"
   ]
  }
 ],
 "metadata": {
  "kernelspec": {
   "display_name": ".venv",
   "language": "python",
   "name": "python3"
  },
  "language_info": {
   "codemirror_mode": {
    "name": "ipython",
    "version": 3
   },
   "file_extension": ".py",
   "mimetype": "text/x-python",
   "name": "python",
   "nbconvert_exporter": "python",
   "pygments_lexer": "ipython3",
   "version": "3.12.6"
  }
 },
 "nbformat": 4,
 "nbformat_minor": 2
}
