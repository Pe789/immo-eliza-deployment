{
 "cells": [
  {
   "cell_type": "code",
   "execution_count": 2,
   "metadata": {},
   "outputs": [],
   "source": [
    "from api.predict import make_prediction\n",
    "make_prediction('input.json', 'output.json')\n",
    "\n"
   ]
  },
  {
   "cell_type": "code",
   "execution_count": null,
   "metadata": {},
   "outputs": [],
   "source": [
    "### HANDLING CATEGORICAL DATA ###\n",
    "\n",
    "#Label encoding for EPC from A to F replaced by from 1 to 6\n",
    "order = ['A', 'B', 'C', 'D', 'E', 'F']\n",
    "category_mapping = {category: rank for rank, category in enumerate(order, start=1)}\n",
    "df['EPC_encoded'] = df['epc'].map(category_mapping)\n",
    "df=df.drop(['epc'],axis = 1)\n",
    "\n",
    "#One hot encoding for kitchen type\n",
    "dummies = pd.get_dummies(df['Kitchen_type'], prefix='Kitchen')\n",
    "df=pd.concat([df, dummies], axis = 1)\n",
    "df=df.drop(['Kitchen_type','Kitchen_Not installed'],axis = 1)\n",
    "\n",
    "#One hot encoding for province (when no province as True => Brussels)\n",
    "dummies = pd.get_dummies(df['Province'])\n",
    "df=pd.concat([df, dummies], axis = 1)\n",
    "df=df.drop(['Province','Brussels'],axis = 1)\n",
    "\n",
    "#One hot encoding for State of building (when no state as True => As_new)\n",
    "dummies = pd.get_dummies(df['State_of_building'], prefix=\"State\")\n",
    "df=pd.concat([df, dummies], axis = 1)\n",
    "df=df.drop(['State_of_building','State_As new'],axis = 1)\n",
    "display(df)"
   ]
  },
  {
   "cell_type": "code",
   "execution_count": null,
   "metadata": {},
   "outputs": [],
   "source": [
    "import json\n",
    "from catboost import CatBoostRegressor\n",
    "\n",
    "# Load the model\n",
    "model = CatBoostRegressor()\n",
    "model = model.load_model(r\"C:\\repos\\immo-eliza-ml\\CB_model\", format='cbm')\n",
    "\n",
    "# Function to read JSON input file, make prediction, and output JSON\n",
    "def make_prediction(input_json_path, output_json_path):\n",
    "    with open(input_json_path, 'r') as input_file:\n",
    "        dict_input = json.load(input_file) \n",
    "        input_list = list(dict_input.values())\n",
    "        prediction = model.predict(input_list)\n",
    "    with open(output_json_path, 'w') as output_file:\n",
    "        json.dump(prediction,output_file)    \n",
    "\n"
   ]
  },
  {
   "cell_type": "markdown",
   "metadata": {},
   "source": [
    "C:\\repos\\immo-eliza-ml\\poilynomia_features_model\n",
    "C:\\repos\\immo-eliza-ml\\themodel\n",
    "\n",
    "\n",
    "joblib.dump(poly_reg_model, 'themodel')\n",
    "joblib.dump(poly, 'poilynomia_features_model')\n",
    "\n",
    "# load and predict\n",
    "poilynomia_features_model = joblib.load('poilynomia_features_model')\n",
    "themodel = joblib.load('themodel')\n",
    "\n",
    "X_val_prep = poilynomia_features_model.transform(X_test)\n",
    "predictions = themodel.predict(X_val_prep)\n",
    "\n",
    "\n",
    "print(\"RMSE on test data is: \", root_mean_squared_error(y_test, predictions))\n",
    "\n",
    "r2 = r2_score(y_test, predictions)\n",
    "print(\"R2 Score with real prices:\", r2)"
   ]
  }
 ],
 "metadata": {
  "kernelspec": {
   "display_name": ".venv",
   "language": "python",
   "name": "python3"
  },
  "language_info": {
   "codemirror_mode": {
    "name": "ipython",
    "version": 3
   },
   "file_extension": ".py",
   "mimetype": "text/x-python",
   "name": "python",
   "nbconvert_exporter": "python",
   "pygments_lexer": "ipython3",
   "version": "3.12.6"
  }
 },
 "nbformat": 4,
 "nbformat_minor": 2
}
