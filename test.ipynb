{
 "cells": [
  {
   "cell_type": "markdown",
   "metadata": {},
   "source": [
    "## input (10)\n",
    "{\n",
    "  \"data\": {\n",
    "    \"Number_of_bedrooms\": int #2 to 5,\n",
    "    \"Living_area\": int, #50 to 300\n",
    "    \"Open_fire\": bool,\n",
    "    \"Swimming_Pool\": bool,\n",
    "    \"Kitchen_type\": [\"Installed\"|\"Hyper equipped\"|\"Semi equipped\"|\"Not installed \"]\n",
    "    \"Number_of_facades': int,\n",
    "    \"State_of_building\": [\"As new\"|\"Good\"|\"Just renovated\"|\"To be done up\"|\"To renovate\"]\n",
    "    \"epc\": [\"A\"|\"B\"|\"C\"|\"D\"|\"E\"|\"F\"],\n",
    "    \"landSurface\": int ## 0 to 1200,\n",
    "    \"Province\": [\"Brussels\"|\"Antwerp\"|\"Brabant_Wallon\"|\"Flemish Brabant\"|\"Liège\"|\"Namur\"|\"Luxembourg\"|\"Hainaut\"|\"West Flanders\"|\"East Flanders\"|\"Limburg\"]\n",
    "    }\n",
    "}  \n",
    "\n",
    "## output\n",
    "{\n",
    "  \"prediction\": Optional[float],\n",
    "  \"status_code\": Optional[int]\n",
    "}\n",
    "\n",
    "## example input (10)\n",
    "(3, 150, False, False, \"Installed\", 3, \"Good\", \"A\", 450, \"East Flanders\" )\n",
    "\n",
    "\n",
    "\n",
    "import requests"
   ]
  }
 ],
 "metadata": {
  "language_info": {
   "name": "python"
  }
 },
 "nbformat": 4,
 "nbformat_minor": 2
}
